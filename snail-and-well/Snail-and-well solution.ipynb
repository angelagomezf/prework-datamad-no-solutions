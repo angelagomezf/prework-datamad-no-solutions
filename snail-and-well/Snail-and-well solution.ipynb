{
 "cells": [
  {
   "cell_type": "code",
   "execution_count": 9,
   "metadata": {},
   "outputs": [
    {
     "name": "stdout",
     "output_type": "stream",
     "text": [
      "Days =  11 days.\n"
     ]
    }
   ],
   "source": [
    "# Assign problem data to variables with representative names\n",
    "well_height = 125\n",
    "daily_advance = 30\n",
    "nightly_retreat = -20\n",
    "accumulated_distance = 0\n",
    "\n",
    "# Assign 0 to the variable that represents the solution\n",
    "days = 0\n",
    "\n",
    "# Write the code that solves the problem\n",
    "while accumulated_distance < well_height:\n",
    "    days += 1\n",
    "    accumulated_distance += daily_advance\n",
    "    if accumulated_distance >= well_height:\n",
    "        break\n",
    "    accumulated_distance += nightly_retreat\n",
    "\n",
    "# Print the result\n",
    "print(\"Days = \", days, \"days.\")"
   ]
  }
 ],
 "metadata": {
  "kernelspec": {
   "display_name": "Python 3",
   "language": "python",
   "name": "python3"
  },
  "language_info": {
   "codemirror_mode": {
    "name": "ipython",
    "version": 3
   },
   "file_extension": ".py",
   "mimetype": "text/x-python",
   "name": "python",
   "nbconvert_exporter": "python",
   "pygments_lexer": "ipython3",
   "version": "3.8.5"
  }
 },
 "nbformat": 4,
 "nbformat_minor": 4
}
