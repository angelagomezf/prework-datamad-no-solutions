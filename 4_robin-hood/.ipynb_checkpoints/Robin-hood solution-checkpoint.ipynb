{
 "cells": [
  {
   "cell_type": "code",
   "execution_count": 1,
   "metadata": {},
   "outputs": [],
   "source": [
    "# Variables\n",
    "points = [(4, 5), (-0, 2), (4, 7), (1, -3), (3, -2), (4, 5),\n",
    "          (3, 2), (5, 7), (-5, 7), (2, 2), (-4, 5), (0, -2),\n",
    "          (-4, 7), (-1, 3), (-3, 2), (-4, -5), (-3, 2),\n",
    "          (5, 7), (5, 7), (2, 2), (9, 9), (-8, -9)]"
   ]
  },
  {
   "cell_type": "code",
   "execution_count": 2,
   "metadata": {},
   "outputs": [],
   "source": [
    "# 1. Robin Hood is famous for hitting an arrow with another arrow. Did you get it?\n",
    "uniquepoints = set(points)"
   ]
  },
  {
   "cell_type": "code",
   "execution_count": 3,
   "metadata": {},
   "outputs": [
    {
     "name": "stdout",
     "output_type": "stream",
     "text": [
      "{(-5, 7), (3, -2), (-4, 7), (-4, 5), (9, 9), (5, 7), (4, 5), (0, 2), (1, -3), (-1, 3), (-4, -5), (2, 2), (-3, 2), (3, 2), (-8, -9), (0, -2), (4, 7)}\n"
     ]
    }
   ],
   "source": [
    "print(uniquepoints)"
   ]
  },
  {
   "cell_type": "code",
   "execution_count": 4,
   "metadata": {},
   "outputs": [
    {
     "data": {
      "text/plain": [
       "5"
      ]
     },
     "execution_count": 4,
     "metadata": {},
     "output_type": "execute_result"
    }
   ],
   "source": [
    "len(points) - len(uniquepoints)"
   ]
  },
  {
   "cell_type": "code",
   "execution_count": 5,
   "metadata": {},
   "outputs": [
    {
     "name": "stdout",
     "output_type": "stream",
     "text": [
      "True\n"
     ]
    }
   ],
   "source": [
    "print(len(points) - len(uniquepoints) != 0)"
   ]
  },
  {
   "cell_type": "code",
   "execution_count": 6,
   "metadata": {},
   "outputs": [
    {
     "name": "stdout",
     "output_type": "stream",
     "text": [
      "Arrows that fall in quadrant I =  10\n",
      "Arrows that fall in quadrant II =  6\n",
      "Arrows that fall in quadrant III =  2\n",
      "Arrows that fall in quadrant IV =  2\n"
     ]
    }
   ],
   "source": [
    "# 2. Calculate how many arrows have fallen in each quadrant.\n",
    "print(\"Arrows that fall in quadrant I = \", sum(x > 0 and y > 0 for x,y in points))\n",
    "print(\"Arrows that fall in quadrant II = \", sum(x < 0 and y > 0 for x,y in points))\n",
    "print(\"Arrows that fall in quadrant III = \", sum(x < 0 and y < 0 for x,y in points))\n",
    "print(\"Arrows that fall in quadrant IV = \", sum(x > 0 and y < 0 for x,y in points))"
   ]
  },
  {
   "cell_type": "code",
   "execution_count": 7,
   "metadata": {},
   "outputs": [],
   "source": [
    "# 3. Find the point closest to the center. Calculate its distance to the center\n",
    "# Defining a function that calculates the distance to the center can help.\n",
    "import math\n",
    "\n",
    "distance_center = []\n",
    "\n",
    "def euclidean_distance(points):\n",
    "    return math.sqrt(x**2+y**2)\n",
    "\n",
    "for x,y in points:\n",
    "    distance = euclidean_distance(points)\n",
    "    distance_center.append(distance)"
   ]
  },
  {
   "cell_type": "code",
   "execution_count": 8,
   "metadata": {},
   "outputs": [
    {
     "name": "stdout",
     "output_type": "stream",
     "text": [
      "[(0, 2), (0, -2)]\n",
      "2.0\n"
     ]
    }
   ],
   "source": [
    "counter = 0\n",
    "\n",
    "closest_point = []\n",
    "\n",
    "for i in distance_center:\n",
    "    if i == min(distance_center):\n",
    "        closest_point.append(points[counter])\n",
    "    counter += 1\n",
    "    \n",
    "print(closest_point)\n",
    "print(min(distance_center))"
   ]
  },
  {
   "cell_type": "code",
   "execution_count": 10,
   "metadata": {},
   "outputs": [
    {
     "name": "stdout",
     "output_type": "stream",
     "text": [
      "[(9, 9), (-8, -9)]\n",
      "2\n"
     ]
    }
   ],
   "source": [
    "# 4. If the target has a radius of 9, calculate the number of arrows that \n",
    "# must be picked up in the forest.\n",
    "radius = 9\n",
    "\n",
    "counter = 0\n",
    "\n",
    "missed = []\n",
    "\n",
    "for i in distance_center:\n",
    "    if i > radius:\n",
    "        missed.append(points[counter])\n",
    "    counter += 1\n",
    "    \n",
    "print(missed)\n",
    "print(sum(1 for i in distance_center if i > radius))"
   ]
  },
  {
   "cell_type": "code",
   "execution_count": null,
   "metadata": {},
   "outputs": [],
   "source": []
  }
 ],
 "metadata": {
  "kernelspec": {
   "display_name": "Python 3",
   "language": "python",
   "name": "python3"
  },
  "language_info": {
   "codemirror_mode": {
    "name": "ipython",
    "version": 3
   },
   "file_extension": ".py",
   "mimetype": "text/x-python",
   "name": "python",
   "nbconvert_exporter": "python",
   "pygments_lexer": "ipython3",
   "version": "3.8.5"
  }
 },
 "nbformat": 4,
 "nbformat_minor": 4
}
