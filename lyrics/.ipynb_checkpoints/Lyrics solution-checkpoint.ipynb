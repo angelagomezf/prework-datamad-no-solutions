{
 "cells": [
  {
   "cell_type": "code",
   "execution_count": 1,
   "metadata": {},
   "outputs": [],
   "source": [
    "# Variable\n",
    "babyshark = '''Baby shark, doo doo doo doo doo doo\n",
    "Baby shark, doo doo doo doo doo doo\n",
    "Baby shark, doo doo doo doo doo doo\n",
    "Baby shark!\n",
    "Mommy shark, doo doo doo doo doo doo\n",
    "Mommy shark, doo doo doo doo doo doo\n",
    "Mommy shark, doo doo doo doo doo doo\n",
    "Mommy shark!\n",
    "Daddy shark, doo doo doo doo doo doo\n",
    "Daddy shark, doo doo doo doo doo doo\n",
    "Daddy shark, doo doo doo doo doo doo\n",
    "Daddy shark!\n",
    "Grandma shark, doo doo doo doo doo doo\n",
    "Grandma shark, doo doo doo doo doo doo\n",
    "Grandma shark, doo doo doo doo doo doo\n",
    "Grandma shark!\n",
    "Grandpa shark, doo doo doo doo doo doo\n",
    "Grandpa shark, doo doo doo doo doo doo\n",
    "Grandpa shark, doo doo doo doo doo doo\n",
    "Grandpa shark!\n",
    "Let's go hunt, doo doo doo doo doo doo\n",
    "Let's go hunt, doo doo doo doo doo doo\n",
    "Let's go hunt, doo doo doo doo doo doo\n",
    "Let's go hunt!\n",
    "Run away,…'''"
   ]
  },
  {
   "cell_type": "code",
   "execution_count": 2,
   "metadata": {},
   "outputs": [
    {
     "name": "stdout",
     "output_type": "stream",
     "text": [
      "BabyShark! doo doo doo doo doo doo\n",
      "BabyShark! doo doo doo doo doo doo\n",
      "BabyShark! doo doo doo doo doo doo\n",
      "\n",
      "BabyShark!\n"
     ]
    }
   ],
   "source": [
    "# Create a code to print the first paragraph and asign it to a variable.\n",
    "baby = \"Baby\"\n",
    "shark = \"Shark! doo doo doo doo doo doo\" \"\\n\"\n",
    "print((baby + shark)*3)\n",
    "shark = \"Shark!\"\n",
    "print(baby + shark)"
   ]
  },
  {
   "cell_type": "code",
   "execution_count": 3,
   "metadata": {},
   "outputs": [
    {
     "name": "stdout",
     "output_type": "stream",
     "text": [
      "Baby Shark Shark! doo doo doo doo doo doo doo\n",
      "Baby Shark Shark! doo doo doo doo doo doo doo\n",
      "Baby Shark Shark! doo doo doo doo doo doo doo\n",
      "Baby Shark!\n",
      "Mommy Shark Shark! doo doo doo doo doo doo doo\n",
      "Mommy Shark Shark! doo doo doo doo doo doo doo\n",
      "Mommy Shark Shark! doo doo doo doo doo doo doo\n",
      "Mommy Shark!\n",
      "Daddy Shark Shark! doo doo doo doo doo doo doo\n",
      "Daddy Shark Shark! doo doo doo doo doo doo doo\n",
      "Daddy Shark Shark! doo doo doo doo doo doo doo\n",
      "Daddy Shark!\n",
      "Grandma Shark Shark! doo doo doo doo doo doo doo\n",
      "Grandma Shark Shark! doo doo doo doo doo doo doo\n",
      "Grandma Shark Shark! doo doo doo doo doo doo doo\n",
      "Grandma Shark!\n",
      "Gradpa Shark Shark! doo doo doo doo doo doo doo\n",
      "Gradpa Shark Shark! doo doo doo doo doo doo doo\n",
      "Gradpa Shark Shark! doo doo doo doo doo doo doo\n",
      "Gradpa Shark!\n",
      "Let's go hunt Shark! doo doo doo doo doo doo doo\n",
      "Let's go hunt Shark! doo doo doo doo doo doo doo\n",
      "Let's go hunt Shark! doo doo doo doo doo doo doo\n",
      "Let's go hunt!\n",
      "Run away,…\n"
     ]
    }
   ],
   "source": [
    "# Create a code that prints the complete lyrics.\n",
    "characters = [\"Baby Shark\", \"Mommy Shark\", \"Daddy Shark\", \"Grandma Shark\", \"Gradpa Shark\", \"Let's go hunt\"]\n",
    "final = (\"Run away,…\")\n",
    "\n",
    "for family in range (len(characters)):\n",
    "    for i in range(3):\n",
    "        print(characters[family] + \" Shark! doo doo doo doo doo doo doo\")\n",
    "    print(characters[family]+ \"!\")\n",
    "\n",
    "print (final)"
   ]
  },
  {
   "cell_type": "code",
   "execution_count": null,
   "metadata": {},
   "outputs": [],
   "source": [
    "# Create a string variable called result to store all the characters and check if it is equal to the lyrics.\n",
    "result = []\n",
    "\n"
   ]
  }
 ],
 "metadata": {
  "kernelspec": {
   "display_name": "Python 3",
   "language": "python",
   "name": "python3"
  },
  "language_info": {
   "codemirror_mode": {
    "name": "ipython",
    "version": 3
   },
   "file_extension": ".py",
   "mimetype": "text/x-python",
   "name": "python",
   "nbconvert_exporter": "python",
   "pygments_lexer": "ipython3",
   "version": "3.8.5"
  }
 },
 "nbformat": 4,
 "nbformat_minor": 4
}
