{
 "cells": [
  {
   "cell_type": "code",
   "execution_count": 1,
   "metadata": {},
   "outputs": [],
   "source": [
    "# Import the choice function of the random module\n",
    "from random import choice"
   ]
  },
  {
   "cell_type": "code",
   "execution_count": 2,
   "metadata": {},
   "outputs": [],
   "source": [
    "# Assign to a list the 3 possible options: 'stone', 'paper' or 'scissors'\n",
    "gestures = [\"rock\",\"paper\",\"scissors\"]"
   ]
  },
  {
   "cell_type": "code",
   "execution_count": 3,
   "metadata": {},
   "outputs": [
    {
     "name": "stdout",
     "output_type": "stream",
     "text": [
      "Input maximum number of rounds: 3\n",
      "There will be a maximum of 3 rounds.\n"
     ]
    }
   ],
   "source": [
    "# Assign a variable to the maximum number of games\n",
    "is_input_valid = False\n",
    "\n",
    "while is_input_valid == False:\n",
    "    inp = int(input(\"Input maximum number of rounds: \"))\n",
    "    if inp % 2 > 0:\n",
    "        is_input_valid = True\n",
    "    else:\n",
    "        print (\"Please imput an odd number of rounds\")\n",
    "        \n",
    "n_rounds = inp\n",
    "\n",
    "print (\"There will be a maximum of\", n_rounds, \"rounds.\")"
   ]
  },
  {
   "cell_type": "code",
   "execution_count": 4,
   "metadata": {},
   "outputs": [
    {
     "name": "stdout",
     "output_type": "stream",
     "text": [
      "Whoever wins 2 rounds first will be the winner, if no one wins 2 before 3 rounds pass by then whoever won more rounds so far will be the winner.\n"
     ]
    }
   ],
   "source": [
    "# Assign a variable to the number of games a player must win to win.\n",
    "# Preferably the value will be based on the number of maximum games\n",
    "import math\n",
    "\n",
    "rounds_to_win = math.ceil(n_rounds/2)\n",
    "\n",
    "print (\"Whoever wins\", rounds_to_win,\"rounds first will be the winner, if no one wins\", \n",
    "       rounds_to_win,\"before\", n_rounds, \"rounds pass by then whoever won more rounds so far will be the winner.\")"
   ]
  },
  {
   "cell_type": "code",
   "execution_count": 5,
   "metadata": {},
   "outputs": [],
   "source": [
    "# Define a function that randomly returns one of the 3 options.\n",
    "# This will correspond to the play of the machine. Totally random.\n",
    "cpu_score = 0\n",
    "player_score = 0\n",
    "rounds = 0"
   ]
  },
  {
   "cell_type": "code",
   "execution_count": 6,
   "metadata": {},
   "outputs": [],
   "source": [
    "# Define a function that asks your choice: 'stone', 'paper' or 'scissors'\n",
    "# you should only allow one of the 3 options. This is defensive programming.\n",
    "# If it is not stone, paper or scissors keep asking until it is\n",
    "def cpu():\n",
    "    global cpu_choice\n",
    "    cpu_choice = choice(gestures)\n",
    "    return cpu_choice"
   ]
  },
  {
   "cell_type": "code",
   "execution_count": 7,
   "metadata": {},
   "outputs": [],
   "source": [
    "# Define a function that resolves a combat.\n",
    "# Returns 0 if there is a tie, 1 if the machine wins, 2 if the human player wins\n",
    "def player():\n",
    "    is_input_valid = False\n",
    "    while is_input_valid == False:\n",
    "        inp = (input(\"Select what gesture you want to play: \"))\n",
    "        if inp == gestures[0] or inp == gestures[1] or inp == gestures[2]:\n",
    "            is_input_valid = True\n",
    "        else:\n",
    "            print (\"Please write rock, paper or scissors all in lowercase)\")\n",
    "        \n",
    "        global player_choice\n",
    "        player_choice = inp\n",
    "        return player_choice"
   ]
  },
  {
   "cell_type": "code",
   "execution_count": 8,
   "metadata": {},
   "outputs": [],
   "source": [
    "# Define a function that shows the choice of each player and the state of the game\n",
    "# This function should be used every time accumulated points are updated\n",
    "round_winner = ()\n",
    "win = ()\n",
    "\n",
    "def game():\n",
    "    global round_winner\n",
    "    global win\n",
    "    global rounds\n",
    "    rounds += 1\n",
    "    if cpu_choice == \"rock\" and player_choice == \"paper\":\n",
    "        round_winner=\"Player wins\"\n",
    "        win = 2\n",
    "    elif cpu_choice == \"rock\" and player_choice == \"scissors\":\n",
    "        round_winner=\"CPU wins\"\n",
    "        win = 1\n",
    "    elif cpu_choice == \"scissors\" and player_choice == \"paper\":\n",
    "        round_winner=\"CPU wins\"\n",
    "        win = 1\n",
    "    elif cpu_choice == \"scissors\" and player_choice == \"rock\":\n",
    "        round_winner = \"Player wins\"\n",
    "        win = 2\n",
    "    elif cpu_choice == \"paper\" and player_choice == \"rock\":\n",
    "        round_winner=\"CPU wins\"\n",
    "        win = 1\n",
    "    elif cpu_choice == \"paper\" and player_choice == \"scissors\":\n",
    "        round_winner=\"Player wins\"\n",
    "        win = 2\n",
    "    else:\n",
    "        round_winner=\"theres is a tie\"\n",
    "        win = 0\n",
    "    \n",
    "    return"
   ]
  },
  {
   "cell_type": "code",
   "execution_count": 9,
   "metadata": {},
   "outputs": [],
   "source": [
    "# Create a loop that iterates while no player reaches the minimum of wins\n",
    "# necessary to win. Inside the loop solves the play of the\n",
    "# machine and ask the player's. Compare them and update the value of the variables\n",
    "# that accumulate the wins of each participant.\n",
    "def Round():\n",
    "    \n",
    "    print (\"Player chose\", player_choice)    \n",
    "    print (\"CPU chose\", cpu_choice)\n",
    "    print (\"In this round\", round_winner)\n",
    "    if win == 2:\n",
    "        global player_score\n",
    "        player_score += 1\n",
    "    elif win == 1:\n",
    "        global cpu_score\n",
    "        cpu_score += 1\n",
    "    print(\"Total score is\",player_score, \"to\", cpu_score,\", with\", n_rounds - rounds, \"rounds left\")"
   ]
  },
  {
   "cell_type": "code",
   "execution_count": 10,
   "metadata": {},
   "outputs": [],
   "source": [
    "# Print by console the winner of the game based on who has more accumulated wins\n",
    "def GAME():\n",
    "    while cpu_score < rounds_to_win and player_score < rounds_to_win and n_rounds > rounds:\n",
    "        player()\n",
    "        cpu()\n",
    "        game()\n",
    "        Round()\n",
    "    if cpu_score == rounds_to_win or cpu_score > player_score:\n",
    "        print(\"CPU won this game :(\")\n",
    "    elif player_score == rounds_to_win or player_score > cpu_score:\n",
    "        print (\"Player won this game!!\")\n",
    "    elif cpu_score == player_score:\n",
    "        print(\"The game ends in a tie\")"
   ]
  },
  {
   "cell_type": "code",
   "execution_count": 13,
   "metadata": {},
   "outputs": [
    {
     "name": "stdout",
     "output_type": "stream",
     "text": [
      "Select what gesture you want to play: rock\n",
      "Player chose rock\n",
      "CPU chose paper\n",
      "In this round CPU wins\n",
      "Total score is 0 to 1 , with 2 rounds left\n",
      "Select what gesture you want to play: paper\n",
      "Player chose paper\n",
      "CPU chose rock\n",
      "In this round Player wins\n",
      "Total score is 1 to 1 , with 1 rounds left\n",
      "Select what gesture you want to play: scissors\n",
      "Player chose scissors\n",
      "CPU chose rock\n",
      "In this round CPU wins\n",
      "Total score is 1 to 2 , with 0 rounds left\n",
      "CPU won this game :(\n"
     ]
    }
   ],
   "source": [
    "GAME()"
   ]
  },
  {
   "cell_type": "code",
   "execution_count": null,
   "metadata": {},
   "outputs": [],
   "source": []
  }
 ],
 "metadata": {
  "kernelspec": {
   "display_name": "Python 3",
   "language": "python",
   "name": "python3"
  },
  "language_info": {
   "codemirror_mode": {
    "name": "ipython",
    "version": 3
   },
   "file_extension": ".py",
   "mimetype": "text/x-python",
   "name": "python",
   "nbconvert_exporter": "python",
   "pygments_lexer": "ipython3",
   "version": "3.8.5"
  }
 },
 "nbformat": 4,
 "nbformat_minor": 4
}
